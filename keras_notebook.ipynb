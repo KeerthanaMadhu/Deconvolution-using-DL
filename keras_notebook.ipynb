{
 "cells": [
  {
   "cell_type": "code",
   "execution_count": null,
   "metadata": {},
   "outputs": [],
   "source": [
    "import numpy as np\n",
    "import pandas as pd\n",
    "import math\n",
    "import scipy\n",
    "import matplotlib.pyplot as plt\n",
    "from scipy.stats import norm,binom\n",
    "from scipy.io import loadmat\n",
    "from scipy.special import digamma, gammaln, gamma\n",
    "from numpy.linalg import inv\n",
    "#import cv2\n",
    "from scipy import ndimage\n",
    "import tensorflow as tf"
   ]
  },
  {
   "cell_type": "code",
   "execution_count": null,
   "metadata": {},
   "outputs": [],
   "source": [
    "from keras.layers import Conv2D, BatchNormalization, Activation\n",
    "from keras.models import Model, Input\n",
    "from keras.optimizers import Adam\n",
    "import keras.backend as K"
   ]
  },
  {
   "cell_type": "code",
   "execution_count": null,
   "metadata": {},
   "outputs": [],
   "source": [
    "# Output original images\n",
    "images_gray = np.load('gray_scale.npy')\n"
   ]
  },
  {
   "cell_type": "code",
   "execution_count": null,
   "metadata": {},
   "outputs": [],
   "source": [
    "# Generate the kernel required\n",
    "kernel_size = 5\n",
    "Kernel_num = 1\n",
    "Kernel  = np.random.rand(kernel_size,kernel_size,Kernel_num)"
   ]
  },
  {
   "cell_type": "code",
   "execution_count": null,
   "metadata": {},
   "outputs": [],
   "source": [
    "# definition to project the kernel\n",
    "def project_kernel(Kernel):\n",
    "    Kernel_num = Kernel.shape[2]\n",
    "    for i in range(Kernel_num):\n",
    "        tmp = Kernel[:,:,i]\n",
    "        if(np.linalg.norm(tmp,'fro')>0):\n",
    "            Kernel[:,:,i]=Kernel[:,:,i]/np.linalg.norm(tmp,'fro')\n",
    "        else:\n",
    "            Kernel[:,:,i] = Kernel[:,:,i]\n",
    "    return Kernel"
   ]
  },
  {
   "cell_type": "code",
   "execution_count": null,
   "metadata": {},
   "outputs": [],
   "source": [
    "A0 = project_kernel(Kernel)"
   ]
  },
  {
   "cell_type": "code",
   "execution_count": null,
   "metadata": {},
   "outputs": [],
   "source": [
    "images_conv = np.zeros_like(images_gray)"
   ]
  },
  {
   "cell_type": "code",
   "execution_count": null,
   "metadata": {},
   "outputs": [],
   "source": [
    "for i in range(images_conv.shape[0]):\n",
    "    images_conv[i] = ndimage.convolve(images_gray[i], A0[:,:,0], mode='constant', cval=1.0)"
   ]
  },
  {
   "cell_type": "code",
   "execution_count": null,
   "metadata": {},
   "outputs": [],
   "source": [
    "plt.imshow(images_conv[300],cmap='gray')\n",
    "plt.show()"
   ]
  },
  {
   "cell_type": "code",
   "execution_count": null,
   "metadata": {},
   "outputs": [],
   "source": [
    "f, ax = plt.subplots(2,10,figsize=(25,5))\n",
    "for i in range(10):\n",
    "    ax[0,i].imshow(images_conv[i,:,:].astype('uint8'),cmap='gray');  ax[0,i].axis('Off'); ax[0,i].set_title('Convoluted', size=15)\n",
    "    ax[1,i].imshow(images_gray[i,:,:].astype('uint8'),cmap='gray');  ax[1,i].axis('Off'); ax[1,i].set_title('Original', size=15)\n",
    "plt.show()"
   ]
  },
  {
   "cell_type": "code",
   "execution_count": null,
   "metadata": {},
   "outputs": [],
   "source": [
    "for i in range(images_conv.shape[0]):\n",
    "    images_conv[i] =images_conv[i]/255\n",
    "    images_gray[i] =images_gray[i]/255"
   ]
  },
  {
   "cell_type": "code",
   "execution_count": null,
   "metadata": {},
   "outputs": [],
   "source": [
    "num_train = 22000\n",
    "num_val = 500\n",
    "num_test = 2500\n",
    "\n",
    "X_train = images_conv[:num_train]\n",
    "Y_train = images_gray[:num_train]\n",
    "X_val = images_conv[num_train:num_train+num_val]\n",
    "Y_val = images_gray[num_train:num_train+num_val]\n",
    "X_test = images_conv[num_train+num_val:]\n",
    "Y_test = images_gray[num_train+num_val:]\n",
    "\n",
    "\n",
    "X_train = X_train.reshape((22000,224,224,1))\n",
    "Y_train = Y_train.reshape((22000,224,224,1))\n",
    "X_val = X_val.reshape((500,224,224,1))\n",
    "Y_val = Y_val.reshape((500,224,224,1))\n",
    "X_test = X_test.reshape((2500,224,224,1))\n",
    "Y_test = Y_test.reshape((2500,224,224,1))\n"
   ]
  },
  {
   "cell_type": "code",
   "execution_count": null,
   "metadata": {},
   "outputs": [],
   "source": [
    "deblur_CNN_input = Input(shape=(224,224,1))\n",
    "\n",
    "#HIDDEN LAYERS\n",
    "deblur_CNN_layer1 = Conv2D(filters=16, kernel_size=7, strides = 1, padding='same')(deblur_CNN_input)\n",
    "deblur_CNN_layer1 = BatchNormalization()(deblur_CNN_layer1)\n",
    "deblur_CNN_layer1 = Activation('relu')(deblur_CNN_layer1)\n",
    "\n",
    "deblur_CNN_layer2 = Conv2D(filters=16, kernel_size=5, strides = 1, padding='same')(deblur_CNN_layer1)\n",
    "deblur_CNN_layer2 = BatchNormalization()(deblur_CNN_layer2)\n",
    "deblur_CNN_layer2 = Activation('relu')(deblur_CNN_layer2)\n",
    "\n",
    "deblur_CNN_layer3 = Conv2D(filters=16, kernel_size=5, strides = 1, padding='same')(deblur_CNN_layer2)\n",
    "deblur_CNN_layer3 = BatchNormalization()(deblur_CNN_layer3)\n",
    "deblur_CNN_layer3 = Activation('relu')(deblur_CNN_layer3)\n",
    "\n",
    "deblur_CNN_output = Conv2D(filters=1, kernel_size=3, strides = 1, padding='same', activation='relu')(deblur_CNN_layer2)\n",
    "\n",
    "deblur_CNN = Model(inputs= deblur_CNN_input, outputs=deblur_CNN_output )"
   ]
  },
  {
   "cell_type": "code",
   "execution_count": null,
   "metadata": {},
   "outputs": [],
   "source": [
    "deblur_CNN.summary()"
   ]
  },
  {
   "cell_type": "code",
   "execution_count": null,
   "metadata": {},
   "outputs": [],
   "source": [
    "adam = Adam(lr= 0.001)\n",
    "deblur_CNN.compile(optimizer= adam, loss= 'mean_squared_error')"
   ]
  },
  {
   "cell_type": "code",
   "execution_count": null,
   "metadata": {},
   "outputs": [],
   "source": [
    "deblur_CNN.fit(X_train, Y_train,batch_size = 256, epochs=5,validation_data=(X_val,Y_val))"
   ]
  },
  {
   "cell_type": "code",
   "execution_count": null,
   "metadata": {},
   "outputs": [],
   "source": [
    "y_pred = deblur_CNN.predict(X_test[0:3])"
   ]
  },
  {
   "cell_type": "code",
   "execution_count": null,
   "metadata": {},
   "outputs": [],
   "source": [
    "y_pred = y_pred*255"
   ]
  },
  {
   "cell_type": "code",
   "execution_count": null,
   "metadata": {},
   "outputs": [],
   "source": []
  }
 ],
 "metadata": {
  "kernelspec": {
   "display_name": "Python 3",
   "language": "python",
   "name": "python3"
  },
  "language_info": {
   "codemirror_mode": {
    "name": "ipython",
    "version": 3
   },
   "file_extension": ".py",
   "mimetype": "text/x-python",
   "name": "python",
   "nbconvert_exporter": "python",
   "pygments_lexer": "ipython3",
   "version": "3.6.5"
  }
 },
 "nbformat": 4,
 "nbformat_minor": 2
}
