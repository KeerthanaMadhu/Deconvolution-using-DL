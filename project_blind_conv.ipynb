{
 "cells": [
  {
   "cell_type": "code",
   "execution_count": 2,
   "metadata": {},
   "outputs": [
    {
     "name": "stderr",
     "output_type": "stream",
     "text": [
      "C:\\Users\\keert\\Anaconda3\\lib\\site-packages\\h5py\\__init__.py:34: FutureWarning: Conversion of the second argument of issubdtype from `float` to `np.floating` is deprecated. In future, it will be treated as `np.float64 == np.dtype(float).type`.\n",
      "  from ._conv import register_converters as _register_converters\n"
     ]
    }
   ],
   "source": [
    "% matplotlib inline\n",
    "% load_ext autoreload\n",
    "% autoreload 2\n",
    "\n",
    "# Import modules\n",
    "from __future__ import print_function\n",
    "import tensorflow as tf\n",
    "import numpy as np\n",
    "import matplotlib.pyplot as plt\n",
    "from ecbm4040.cifar_utils import load_data\n",
    "from scipy import ndimage\n",
    "import cv2"
   ]
  },
  {
   "cell_type": "code",
   "execution_count": 3,
   "metadata": {},
   "outputs": [
    {
     "name": "stdout",
     "output_type": "stream",
     "text": [
      "./data/cifar-10-python.tar.gz already exists. Begin extracting...\n"
     ]
    }
   ],
   "source": [
    "# Load the raw CIFAR-10 data.\n",
    "X_train, y_train, X_test, y_test = load_data()\n",
    "num_train = 49000\n",
    "num_val = 1000\n",
    "num_test = 10000\n",
    "num_dev = 128\n",
    "\n",
    "# The development set is used for augmentation practices.\n",
    "mask = np.random.choice(num_train, num_dev, replace=False)\n",
    "X_dev = X_train[mask]\n",
    "y_dev = y_train[mask]\n",
    "\n",
    "# Seperate Training set into a training set and a validation set\n",
    "X_val = X_train[num_train:]\n",
    "y_val = y_train[num_train:]\n",
    "X_train = X_train[:num_train]\n",
    "y_train = y_train[:num_train]\n",
    "\n",
    "#print(X_train.shape, X_val.shape, X_test.shape, X_dev.shape)\n",
    "\n",
    "\n",
    "X_train = X_train.reshape(X_train.shape[0], 3, 32, 32).transpose(0,2,3,1)\n",
    "X_test = X_test.reshape(X_test.shape[0], 3, 32, 32).transpose(0,2,3,1)\n",
    "X_val = X_val.reshape(X_val.shape[0], 3, 32, 32).transpose(0,2,3,1)\n",
    "X_dev = X_dev.reshape(X_dev.shape[0], 3, 32, 32).transpose(0,2,3,1)\n",
    "\n"
   ]
  },
  {
   "cell_type": "code",
   "execution_count": 4,
   "metadata": {
    "collapsed": true
   },
   "outputs": [],
   "source": [
    "# Generate the kernel required\n",
    "kernel_size = 3\n",
    "Kernel_num = 1\n",
    "Kernel  = np.random.rand(kernel_size,kernel_size,Kernel_num)\n",
    "# Project the kernel onto a circle\n",
    "def project_kernel(Kernel):\n",
    "    Kernel_num = Kernel.shape[2]\n",
    "    for i in range(Kernel_num):\n",
    "        tmp = Kernel[:,:,i]\n",
    "        if(np.linalg.norm(tmp,'fro')>0):\n",
    "            Kernel[:,:,i]=Kernel[:,:,i]/np.linalg.norm(tmp,'fro')\n",
    "        else:\n",
    "            Kernel[:,:,i] = Kernel[:,:,i]\n",
    "    return Kernel\n",
    "\n",
    "A0 = project_kernel(Kernel)"
   ]
  },
  {
   "cell_type": "code",
   "execution_count": 5,
   "metadata": {},
   "outputs": [
    {
     "data": {
      "image/png": "[encoded data removed]",
      "text/plain": [
       "<matplotlib.figure.Figure at 0x266ea466978>"
      ]
     },
     "metadata": {},
     "output_type": "display_data"
    }
   ],
   "source": [
    "X_train_exp = X_train[30,:,:,:]\n",
    "\n",
    "gray_image = cv2.cvtColor(X_train_exp, cv2.COLOR_BGR2GRAY)\n",
    "\n",
    "plt.imshow(gray_image,cmap= 'gray')\n",
    "output = ndimage.filters.convolve(gray_image,A0[:,:,0])\n",
    "\n"
   ]
  },
  {
   "cell_type": "code",
   "execution_count": 6,
   "metadata": {},
   "outputs": [
    {
     "data": {
      "text/plain": [
       "<matplotlib.image.AxesImage at 0x266ea4ca1d0>"
      ]
     },
     "execution_count": 6,
     "metadata": {},
     "output_type": "execute_result"
    },
    {
     "data": {
      "image/png": "[encoded data removed]",
      "text/plain": [
       "<matplotlib.figure.Figure at 0x266ea467cf8>"
      ]
     },
     "metadata": {},
     "output_type": "display_data"
    }
   ],
   "source": [
    "output_image = cv2.cvtColor(output, cv2.COLOR_GRAY2BGR)\n",
    "plt.imshow(output_image)"
   ]
  }
 ],
 "metadata": {
  "kernelspec": {
   "display_name": "Python 3",
   "language": "python",
   "name": "python3"
  },
  "language_info": {
   "codemirror_mode": {
    "name": "ipython",
    "version": 3
   },
   "file_extension": ".py",
   "mimetype": "text/x-python",
   "name": "python",
   "nbconvert_exporter": "python",
   "pygments_lexer": "ipython3",
   "version": "3.6.3"
  }
 },
 "nbformat": 4,
 "nbformat_minor": 2
}
